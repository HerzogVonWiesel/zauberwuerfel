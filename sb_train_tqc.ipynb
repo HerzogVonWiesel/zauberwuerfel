{
 "cells": [
  {
   "cell_type": "code",
   "execution_count": 4,
   "metadata": {},
   "outputs": [],
   "source": [
    "from tqdm import tqdm\n",
    "import gymnasium as gym\n",
    "import gym_rubiks\n",
    "from gym_rubiks.rubiks_gym_agent import RubiksAgent\n",
    "from rubiks import RubiksCube\n",
    "\n",
    "import numpy as np\n",
    "\n",
    "# stable-baselines3 Reinformencement Learning agent\n",
    "from sbx import DQN\n",
    "import stable_baselines3\n",
    "from stable_baselines3.common.env_checker import check_env\n",
    "from stable_baselines3.common.evaluation import evaluate_policy\n",
    "from stable_baselines3.common.env_util import make_vec_env\n",
    "\n",
    "import tensorboard"
   ]
  },
  {
   "cell_type": "code",
   "execution_count": 5,
   "metadata": {},
   "outputs": [],
   "source": [
    "def make_rubik_env(n_shuffle, max_episode_steps=10):\n",
    "    env = gym.make(\"RubiksCube-v0\", cube=RubiksCube(), n_shuffle=n_shuffle)\n",
    "    env = gym.wrappers.TimeLimit(env, max_episode_steps=max_episode_steps)\n",
    "    return env"
   ]
  },
  {
   "cell_type": "code",
   "execution_count": 6,
   "metadata": {},
   "outputs": [],
   "source": [
    "env = gym.make(\"RubiksCube-v0\", cube=RubiksCube(), n_shuffle=1)\n",
    "env = gym.wrappers.TimeLimit(env, max_episode_steps=10)\n",
    "\n",
    "vec_env = make_vec_env(lambda: make_rubik_env(1, 10), n_envs=4)\n",
    "model = DQN(\"MlpPolicy\", vec_env, verbose=0, tensorboard_log=\"./RubiksLog_t\")\n",
    "# Train the agent and display a progress bar, tensorboard\n",
    "\n",
    "model.learn(total_timesteps=int(2e4), progress_bar=False, tb_log_name=\"./RubiksLog_1\", log_interval=1)\n",
    "# Save the agent\n",
    "model.save(\"RubiksCubet_1\")\n",
    "del model"
   ]
  },
  {
   "cell_type": "code",
   "execution_count": 7,
   "metadata": {},
   "outputs": [],
   "source": [
    "env = gym.make(\"RubiksCube-v0\", cube=RubiksCube(), n_shuffle=2)\n",
    "env = gym.wrappers.TimeLimit(env, max_episode_steps=10)\n",
    "\n",
    "vec_env = make_vec_env(lambda: make_rubik_env(2, 10), n_envs=4)\n",
    "model = DQN.load(\"RubiksCubet_1\", vec_env, tensorboard_log=\"./RubiksLog_t\")\n",
    "\n",
    "model.learn(total_timesteps=int(2e5), progress_bar=False, tb_log_name=\"./RubiksLog_2\", log_interval=1)\n",
    "# Save the agent\n",
    "model.save(\"RubiksCubet_2\")\n",
    "del model"
   ]
  },
  {
   "cell_type": "code",
   "execution_count": 8,
   "metadata": {},
   "outputs": [
    {
     "ename": "KeyboardInterrupt",
     "evalue": "",
     "output_type": "error",
     "traceback": [
      "\u001b[1;31m---------------------------------------------------------------------------\u001b[0m",
      "\u001b[1;31mKeyboardInterrupt\u001b[0m                         Traceback (most recent call last)",
      "Cell \u001b[1;32mIn[8], line 7\u001b[0m\n\u001b[0;32m      4\u001b[0m vec_env \u001b[38;5;241m=\u001b[39m make_vec_env(\u001b[38;5;28;01mlambda\u001b[39;00m: make_rubik_env(\u001b[38;5;241m3\u001b[39m, \u001b[38;5;241m10\u001b[39m), n_envs\u001b[38;5;241m=\u001b[39m\u001b[38;5;241m4\u001b[39m)\n\u001b[0;32m      5\u001b[0m model \u001b[38;5;241m=\u001b[39m DQN\u001b[38;5;241m.\u001b[39mload(\u001b[38;5;124m\"\u001b[39m\u001b[38;5;124mRubiksCubet_2\u001b[39m\u001b[38;5;124m\"\u001b[39m, vec_env, tensorboard_log\u001b[38;5;241m=\u001b[39m\u001b[38;5;124m\"\u001b[39m\u001b[38;5;124m./RubiksLog_t\u001b[39m\u001b[38;5;124m\"\u001b[39m)\n\u001b[1;32m----> 7\u001b[0m \u001b[43mmodel\u001b[49m\u001b[38;5;241;43m.\u001b[39;49m\u001b[43mlearn\u001b[49m\u001b[43m(\u001b[49m\u001b[43mtotal_timesteps\u001b[49m\u001b[38;5;241;43m=\u001b[39;49m\u001b[38;5;28;43mint\u001b[39;49m\u001b[43m(\u001b[49m\u001b[38;5;241;43m1e6\u001b[39;49m\u001b[43m)\u001b[49m\u001b[43m,\u001b[49m\u001b[43m \u001b[49m\u001b[43mprogress_bar\u001b[49m\u001b[38;5;241;43m=\u001b[39;49m\u001b[38;5;28;43;01mFalse\u001b[39;49;00m\u001b[43m,\u001b[49m\u001b[43m \u001b[49m\u001b[43mtb_log_name\u001b[49m\u001b[38;5;241;43m=\u001b[39;49m\u001b[38;5;124;43m\"\u001b[39;49m\u001b[38;5;124;43m./RubiksLog_3\u001b[39;49m\u001b[38;5;124;43m\"\u001b[39;49m\u001b[43m,\u001b[49m\u001b[43m \u001b[49m\u001b[43mlog_interval\u001b[49m\u001b[38;5;241;43m=\u001b[39;49m\u001b[38;5;241;43m1\u001b[39;49m\u001b[43m)\u001b[49m\n\u001b[0;32m      8\u001b[0m \u001b[38;5;66;03m# Save the agent\u001b[39;00m\n\u001b[0;32m      9\u001b[0m model\u001b[38;5;241m.\u001b[39msave(\u001b[38;5;124m\"\u001b[39m\u001b[38;5;124mRubiksCubet_3\u001b[39m\u001b[38;5;124m\"\u001b[39m)\n",
      "File \u001b[1;32mc:\\Uni_Master\\AINI\\zauberwuerfel\\aini\\lib\\site-packages\\sbx\\dqn\\dqn.py:124\u001b[0m, in \u001b[0;36mDQN.learn\u001b[1;34m(self, total_timesteps, callback, log_interval, tb_log_name, reset_num_timesteps, progress_bar)\u001b[0m\n\u001b[0;32m    115\u001b[0m \u001b[38;5;28;01mdef\u001b[39;00m \u001b[38;5;21mlearn\u001b[39m(\n\u001b[0;32m    116\u001b[0m     \u001b[38;5;28mself\u001b[39m,\n\u001b[0;32m    117\u001b[0m     total_timesteps: \u001b[38;5;28mint\u001b[39m,\n\u001b[1;32m   (...)\u001b[0m\n\u001b[0;32m    122\u001b[0m     progress_bar: \u001b[38;5;28mbool\u001b[39m \u001b[38;5;241m=\u001b[39m \u001b[38;5;28;01mFalse\u001b[39;00m,\n\u001b[0;32m    123\u001b[0m ):\n\u001b[1;32m--> 124\u001b[0m     \u001b[38;5;28;01mreturn\u001b[39;00m \u001b[38;5;28;43msuper\u001b[39;49m\u001b[43m(\u001b[49m\u001b[43m)\u001b[49m\u001b[38;5;241;43m.\u001b[39;49m\u001b[43mlearn\u001b[49m\u001b[43m(\u001b[49m\n\u001b[0;32m    125\u001b[0m \u001b[43m        \u001b[49m\u001b[43mtotal_timesteps\u001b[49m\u001b[38;5;241;43m=\u001b[39;49m\u001b[43mtotal_timesteps\u001b[49m\u001b[43m,\u001b[49m\n\u001b[0;32m    126\u001b[0m \u001b[43m        \u001b[49m\u001b[43mcallback\u001b[49m\u001b[38;5;241;43m=\u001b[39;49m\u001b[43mcallback\u001b[49m\u001b[43m,\u001b[49m\n\u001b[0;32m    127\u001b[0m \u001b[43m        \u001b[49m\u001b[43mlog_interval\u001b[49m\u001b[38;5;241;43m=\u001b[39;49m\u001b[43mlog_interval\u001b[49m\u001b[43m,\u001b[49m\n\u001b[0;32m    128\u001b[0m \u001b[43m        \u001b[49m\u001b[43mtb_log_name\u001b[49m\u001b[38;5;241;43m=\u001b[39;49m\u001b[43mtb_log_name\u001b[49m\u001b[43m,\u001b[49m\n\u001b[0;32m    129\u001b[0m \u001b[43m        \u001b[49m\u001b[43mreset_num_timesteps\u001b[49m\u001b[38;5;241;43m=\u001b[39;49m\u001b[43mreset_num_timesteps\u001b[49m\u001b[43m,\u001b[49m\n\u001b[0;32m    130\u001b[0m \u001b[43m        \u001b[49m\u001b[43mprogress_bar\u001b[49m\u001b[38;5;241;43m=\u001b[39;49m\u001b[43mprogress_bar\u001b[49m\u001b[43m,\u001b[49m\n\u001b[0;32m    131\u001b[0m \u001b[43m    \u001b[49m\u001b[43m)\u001b[49m\n",
      "File \u001b[1;32mc:\\Uni_Master\\AINI\\zauberwuerfel\\aini\\lib\\site-packages\\stable_baselines3\\common\\off_policy_algorithm.py:328\u001b[0m, in \u001b[0;36mOffPolicyAlgorithm.learn\u001b[1;34m(self, total_timesteps, callback, log_interval, tb_log_name, reset_num_timesteps, progress_bar)\u001b[0m\n\u001b[0;32m    325\u001b[0m \u001b[38;5;28;01massert\u001b[39;00m \u001b[38;5;28misinstance\u001b[39m(\u001b[38;5;28mself\u001b[39m\u001b[38;5;241m.\u001b[39mtrain_freq, TrainFreq)  \u001b[38;5;66;03m# check done in _setup_learn()\u001b[39;00m\n\u001b[0;32m    327\u001b[0m \u001b[38;5;28;01mwhile\u001b[39;00m \u001b[38;5;28mself\u001b[39m\u001b[38;5;241m.\u001b[39mnum_timesteps \u001b[38;5;241m<\u001b[39m total_timesteps:\n\u001b[1;32m--> 328\u001b[0m     rollout \u001b[38;5;241m=\u001b[39m \u001b[38;5;28;43mself\u001b[39;49m\u001b[38;5;241;43m.\u001b[39;49m\u001b[43mcollect_rollouts\u001b[49m\u001b[43m(\u001b[49m\n\u001b[0;32m    329\u001b[0m \u001b[43m        \u001b[49m\u001b[38;5;28;43mself\u001b[39;49m\u001b[38;5;241;43m.\u001b[39;49m\u001b[43menv\u001b[49m\u001b[43m,\u001b[49m\n\u001b[0;32m    330\u001b[0m \u001b[43m        \u001b[49m\u001b[43mtrain_freq\u001b[49m\u001b[38;5;241;43m=\u001b[39;49m\u001b[38;5;28;43mself\u001b[39;49m\u001b[38;5;241;43m.\u001b[39;49m\u001b[43mtrain_freq\u001b[49m\u001b[43m,\u001b[49m\n\u001b[0;32m    331\u001b[0m \u001b[43m        \u001b[49m\u001b[43maction_noise\u001b[49m\u001b[38;5;241;43m=\u001b[39;49m\u001b[38;5;28;43mself\u001b[39;49m\u001b[38;5;241;43m.\u001b[39;49m\u001b[43maction_noise\u001b[49m\u001b[43m,\u001b[49m\n\u001b[0;32m    332\u001b[0m \u001b[43m        \u001b[49m\u001b[43mcallback\u001b[49m\u001b[38;5;241;43m=\u001b[39;49m\u001b[43mcallback\u001b[49m\u001b[43m,\u001b[49m\n\u001b[0;32m    333\u001b[0m \u001b[43m        \u001b[49m\u001b[43mlearning_starts\u001b[49m\u001b[38;5;241;43m=\u001b[39;49m\u001b[38;5;28;43mself\u001b[39;49m\u001b[38;5;241;43m.\u001b[39;49m\u001b[43mlearning_starts\u001b[49m\u001b[43m,\u001b[49m\n\u001b[0;32m    334\u001b[0m \u001b[43m        \u001b[49m\u001b[43mreplay_buffer\u001b[49m\u001b[38;5;241;43m=\u001b[39;49m\u001b[38;5;28;43mself\u001b[39;49m\u001b[38;5;241;43m.\u001b[39;49m\u001b[43mreplay_buffer\u001b[49m\u001b[43m,\u001b[49m\n\u001b[0;32m    335\u001b[0m \u001b[43m        \u001b[49m\u001b[43mlog_interval\u001b[49m\u001b[38;5;241;43m=\u001b[39;49m\u001b[43mlog_interval\u001b[49m\u001b[43m,\u001b[49m\n\u001b[0;32m    336\u001b[0m \u001b[43m    \u001b[49m\u001b[43m)\u001b[49m\n\u001b[0;32m    338\u001b[0m     \u001b[38;5;28;01mif\u001b[39;00m \u001b[38;5;129;01mnot\u001b[39;00m rollout\u001b[38;5;241m.\u001b[39mcontinue_training:\n\u001b[0;32m    339\u001b[0m         \u001b[38;5;28;01mbreak\u001b[39;00m\n",
      "File \u001b[1;32mc:\\Uni_Master\\AINI\\zauberwuerfel\\aini\\lib\\site-packages\\stable_baselines3\\common\\off_policy_algorithm.py:597\u001b[0m, in \u001b[0;36mOffPolicyAlgorithm.collect_rollouts\u001b[1;34m(self, env, callback, train_freq, replay_buffer, action_noise, learning_starts, log_interval)\u001b[0m\n\u001b[0;32m    595\u001b[0m             \u001b[38;5;66;03m# Log training infos\u001b[39;00m\n\u001b[0;32m    596\u001b[0m             \u001b[38;5;28;01mif\u001b[39;00m log_interval \u001b[38;5;129;01mis\u001b[39;00m \u001b[38;5;129;01mnot\u001b[39;00m \u001b[38;5;28;01mNone\u001b[39;00m \u001b[38;5;129;01mand\u001b[39;00m \u001b[38;5;28mself\u001b[39m\u001b[38;5;241m.\u001b[39m_episode_num \u001b[38;5;241m%\u001b[39m log_interval \u001b[38;5;241m==\u001b[39m \u001b[38;5;241m0\u001b[39m:\n\u001b[1;32m--> 597\u001b[0m                 \u001b[38;5;28;43mself\u001b[39;49m\u001b[38;5;241;43m.\u001b[39;49m\u001b[43m_dump_logs\u001b[49m\u001b[43m(\u001b[49m\u001b[43m)\u001b[49m\n\u001b[0;32m    598\u001b[0m callback\u001b[38;5;241m.\u001b[39mon_rollout_end()\n\u001b[0;32m    600\u001b[0m \u001b[38;5;28;01mreturn\u001b[39;00m RolloutReturn(num_collected_steps \u001b[38;5;241m*\u001b[39m env\u001b[38;5;241m.\u001b[39mnum_envs, num_collected_episodes, continue_training)\n",
      "File \u001b[1;32mc:\\Uni_Master\\AINI\\zauberwuerfel\\aini\\lib\\site-packages\\stable_baselines3\\common\\off_policy_algorithm.py:431\u001b[0m, in \u001b[0;36mOffPolicyAlgorithm._dump_logs\u001b[1;34m(self)\u001b[0m\n\u001b[0;32m    429\u001b[0m     \u001b[38;5;28mself\u001b[39m\u001b[38;5;241m.\u001b[39mlogger\u001b[38;5;241m.\u001b[39mrecord(\u001b[38;5;124m\"\u001b[39m\u001b[38;5;124mrollout/success_rate\u001b[39m\u001b[38;5;124m\"\u001b[39m, safe_mean(\u001b[38;5;28mself\u001b[39m\u001b[38;5;241m.\u001b[39mep_success_buffer))\n\u001b[0;32m    430\u001b[0m \u001b[38;5;66;03m# Pass the number of timesteps for tensorboard\u001b[39;00m\n\u001b[1;32m--> 431\u001b[0m \u001b[38;5;28;43mself\u001b[39;49m\u001b[38;5;241;43m.\u001b[39;49m\u001b[43mlogger\u001b[49m\u001b[38;5;241;43m.\u001b[39;49m\u001b[43mdump\u001b[49m\u001b[43m(\u001b[49m\u001b[43mstep\u001b[49m\u001b[38;5;241;43m=\u001b[39;49m\u001b[38;5;28;43mself\u001b[39;49m\u001b[38;5;241;43m.\u001b[39;49m\u001b[43mnum_timesteps\u001b[49m\u001b[43m)\u001b[49m\n",
      "File \u001b[1;32mc:\\Uni_Master\\AINI\\zauberwuerfel\\aini\\lib\\site-packages\\stable_baselines3\\common\\logger.py:539\u001b[0m, in \u001b[0;36mLogger.dump\u001b[1;34m(self, step)\u001b[0m\n\u001b[0;32m    537\u001b[0m \u001b[38;5;28;01mfor\u001b[39;00m _format \u001b[38;5;129;01min\u001b[39;00m \u001b[38;5;28mself\u001b[39m\u001b[38;5;241m.\u001b[39moutput_formats:\n\u001b[0;32m    538\u001b[0m     \u001b[38;5;28;01mif\u001b[39;00m \u001b[38;5;28misinstance\u001b[39m(_format, KVWriter):\n\u001b[1;32m--> 539\u001b[0m         \u001b[43m_format\u001b[49m\u001b[38;5;241;43m.\u001b[39;49m\u001b[43mwrite\u001b[49m\u001b[43m(\u001b[49m\u001b[38;5;28;43mself\u001b[39;49m\u001b[38;5;241;43m.\u001b[39;49m\u001b[43mname_to_value\u001b[49m\u001b[43m,\u001b[49m\u001b[43m \u001b[49m\u001b[38;5;28;43mself\u001b[39;49m\u001b[38;5;241;43m.\u001b[39;49m\u001b[43mname_to_excluded\u001b[49m\u001b[43m,\u001b[49m\u001b[43m \u001b[49m\u001b[43mstep\u001b[49m\u001b[43m)\u001b[49m\n\u001b[0;32m    541\u001b[0m \u001b[38;5;28mself\u001b[39m\u001b[38;5;241m.\u001b[39mname_to_value\u001b[38;5;241m.\u001b[39mclear()\n\u001b[0;32m    542\u001b[0m \u001b[38;5;28mself\u001b[39m\u001b[38;5;241m.\u001b[39mname_to_count\u001b[38;5;241m.\u001b[39mclear()\n",
      "File \u001b[1;32mc:\\Uni_Master\\AINI\\zauberwuerfel\\aini\\lib\\site-packages\\stable_baselines3\\common\\logger.py:436\u001b[0m, in \u001b[0;36mTensorBoardOutputFormat.write\u001b[1;34m(self, key_values, key_excluded, step)\u001b[0m\n\u001b[0;32m    433\u001b[0m         \u001b[38;5;28mself\u001b[39m\u001b[38;5;241m.\u001b[39mwriter\u001b[38;5;241m.\u001b[39mfile_writer\u001b[38;5;241m.\u001b[39madd_summary(session_end_info)\n\u001b[0;32m    435\u001b[0m \u001b[38;5;66;03m# Flush the output to the file\u001b[39;00m\n\u001b[1;32m--> 436\u001b[0m \u001b[38;5;28;43mself\u001b[39;49m\u001b[38;5;241;43m.\u001b[39;49m\u001b[43mwriter\u001b[49m\u001b[38;5;241;43m.\u001b[39;49m\u001b[43mflush\u001b[49m\u001b[43m(\u001b[49m\u001b[43m)\u001b[49m\n",
      "File \u001b[1;32mc:\\Uni_Master\\AINI\\zauberwuerfel\\aini\\lib\\site-packages\\torch\\utils\\tensorboard\\writer.py:1194\u001b[0m, in \u001b[0;36mSummaryWriter.flush\u001b[1;34m(self)\u001b[0m\n\u001b[0;32m   1192\u001b[0m     \u001b[38;5;28;01mreturn\u001b[39;00m\n\u001b[0;32m   1193\u001b[0m \u001b[38;5;28;01mfor\u001b[39;00m writer \u001b[38;5;129;01min\u001b[39;00m \u001b[38;5;28mself\u001b[39m\u001b[38;5;241m.\u001b[39mall_writers\u001b[38;5;241m.\u001b[39mvalues():\n\u001b[1;32m-> 1194\u001b[0m     \u001b[43mwriter\u001b[49m\u001b[38;5;241;43m.\u001b[39;49m\u001b[43mflush\u001b[49m\u001b[43m(\u001b[49m\u001b[43m)\u001b[49m\n",
      "File \u001b[1;32mc:\\Uni_Master\\AINI\\zauberwuerfel\\aini\\lib\\site-packages\\torch\\utils\\tensorboard\\writer.py:153\u001b[0m, in \u001b[0;36mFileWriter.flush\u001b[1;34m(self)\u001b[0m\n\u001b[0;32m    147\u001b[0m \u001b[38;5;28;01mdef\u001b[39;00m \u001b[38;5;21mflush\u001b[39m(\u001b[38;5;28mself\u001b[39m):\n\u001b[0;32m    148\u001b[0m \u001b[38;5;250m    \u001b[39m\u001b[38;5;124;03m\"\"\"Flushes the event file to disk.\u001b[39;00m\n\u001b[0;32m    149\u001b[0m \n\u001b[0;32m    150\u001b[0m \u001b[38;5;124;03m    Call this method to make sure that all pending events have been written to\u001b[39;00m\n\u001b[0;32m    151\u001b[0m \u001b[38;5;124;03m    disk.\u001b[39;00m\n\u001b[0;32m    152\u001b[0m \u001b[38;5;124;03m    \"\"\"\u001b[39;00m\n\u001b[1;32m--> 153\u001b[0m     \u001b[38;5;28;43mself\u001b[39;49m\u001b[38;5;241;43m.\u001b[39;49m\u001b[43mevent_writer\u001b[49m\u001b[38;5;241;43m.\u001b[39;49m\u001b[43mflush\u001b[49m\u001b[43m(\u001b[49m\u001b[43m)\u001b[49m\n",
      "File \u001b[1;32mc:\\Uni_Master\\AINI\\zauberwuerfel\\aini\\lib\\site-packages\\tensorboard\\summary\\writer\\event_file_writer.py:125\u001b[0m, in \u001b[0;36mEventFileWriter.flush\u001b[1;34m(self)\u001b[0m\n\u001b[0;32m    119\u001b[0m \u001b[38;5;28;01mdef\u001b[39;00m \u001b[38;5;21mflush\u001b[39m(\u001b[38;5;28mself\u001b[39m):\n\u001b[0;32m    120\u001b[0m \u001b[38;5;250m    \u001b[39m\u001b[38;5;124;03m\"\"\"Flushes the event file to disk.\u001b[39;00m\n\u001b[0;32m    121\u001b[0m \n\u001b[0;32m    122\u001b[0m \u001b[38;5;124;03m    Call this method to make sure that all pending events have been\u001b[39;00m\n\u001b[0;32m    123\u001b[0m \u001b[38;5;124;03m    written to disk.\u001b[39;00m\n\u001b[0;32m    124\u001b[0m \u001b[38;5;124;03m    \"\"\"\u001b[39;00m\n\u001b[1;32m--> 125\u001b[0m     \u001b[38;5;28;43mself\u001b[39;49m\u001b[38;5;241;43m.\u001b[39;49m\u001b[43m_async_writer\u001b[49m\u001b[38;5;241;43m.\u001b[39;49m\u001b[43mflush\u001b[49m\u001b[43m(\u001b[49m\u001b[43m)\u001b[49m\n",
      "File \u001b[1;32mc:\\Uni_Master\\AINI\\zauberwuerfel\\aini\\lib\\site-packages\\tensorboard\\summary\\writer\\event_file_writer.py:190\u001b[0m, in \u001b[0;36m_AsyncWriter.flush\u001b[1;34m(self)\u001b[0m\n\u001b[0;32m    188\u001b[0m     \u001b[38;5;28;01mraise\u001b[39;00m \u001b[38;5;167;01mIOError\u001b[39;00m(\u001b[38;5;124m\"\u001b[39m\u001b[38;5;124mWriter is closed\u001b[39m\u001b[38;5;124m\"\u001b[39m)\n\u001b[0;32m    189\u001b[0m \u001b[38;5;28mself\u001b[39m\u001b[38;5;241m.\u001b[39m_byte_queue\u001b[38;5;241m.\u001b[39mjoin()\n\u001b[1;32m--> 190\u001b[0m \u001b[38;5;28;43mself\u001b[39;49m\u001b[38;5;241;43m.\u001b[39;49m\u001b[43m_writer\u001b[49m\u001b[38;5;241;43m.\u001b[39;49m\u001b[43mflush\u001b[49m\u001b[43m(\u001b[49m\u001b[43m)\u001b[49m\n\u001b[0;32m    191\u001b[0m \u001b[38;5;66;03m# Check the status again in case the background worker thread has\u001b[39;00m\n\u001b[0;32m    192\u001b[0m \u001b[38;5;66;03m# failed in the meantime to avoid waiting until the next call to\u001b[39;00m\n\u001b[0;32m    193\u001b[0m \u001b[38;5;66;03m# surface the error.\u001b[39;00m\n\u001b[0;32m    194\u001b[0m \u001b[38;5;28mself\u001b[39m\u001b[38;5;241m.\u001b[39m_check_worker_status()\n",
      "File \u001b[1;32mc:\\Uni_Master\\AINI\\zauberwuerfel\\aini\\lib\\site-packages\\tensorboard\\summary\\writer\\record_writer.py:43\u001b[0m, in \u001b[0;36mRecordWriter.flush\u001b[1;34m(self)\u001b[0m\n\u001b[0;32m     42\u001b[0m \u001b[38;5;28;01mdef\u001b[39;00m \u001b[38;5;21mflush\u001b[39m(\u001b[38;5;28mself\u001b[39m):\n\u001b[1;32m---> 43\u001b[0m     \u001b[38;5;28;43mself\u001b[39;49m\u001b[38;5;241;43m.\u001b[39;49m\u001b[43m_writer\u001b[49m\u001b[38;5;241;43m.\u001b[39;49m\u001b[43mflush\u001b[49m\u001b[43m(\u001b[49m\u001b[43m)\u001b[49m\n",
      "File \u001b[1;32mc:\\Uni_Master\\AINI\\zauberwuerfel\\aini\\lib\\site-packages\\tensorflow\\python\\lib\\io\\file_io.py:221\u001b[0m, in \u001b[0;36mFileIO.flush\u001b[1;34m(self)\u001b[0m\n\u001b[0;32m    214\u001b[0m \u001b[38;5;250m\u001b[39m\u001b[38;5;124;03m\"\"\"Flushes the Writable file.\u001b[39;00m\n\u001b[0;32m    215\u001b[0m \n\u001b[0;32m    216\u001b[0m \u001b[38;5;124;03mThis only ensures that the data has made its way out of the process without\u001b[39;00m\n\u001b[0;32m    217\u001b[0m \u001b[38;5;124;03many guarantees on whether it's written to disk. This means that the\u001b[39;00m\n\u001b[0;32m    218\u001b[0m \u001b[38;5;124;03mdata would survive an application crash but not necessarily an OS crash.\u001b[39;00m\n\u001b[0;32m    219\u001b[0m \u001b[38;5;124;03m\"\"\"\u001b[39;00m\n\u001b[0;32m    220\u001b[0m \u001b[38;5;28;01mif\u001b[39;00m \u001b[38;5;28mself\u001b[39m\u001b[38;5;241m.\u001b[39m_writable_file:\n\u001b[1;32m--> 221\u001b[0m   \u001b[38;5;28;43mself\u001b[39;49m\u001b[38;5;241;43m.\u001b[39;49m\u001b[43m_writable_file\u001b[49m\u001b[38;5;241;43m.\u001b[39;49m\u001b[43mflush\u001b[49m\u001b[43m(\u001b[49m\u001b[43m)\u001b[49m\n",
      "\u001b[1;31mKeyboardInterrupt\u001b[0m: "
     ]
    }
   ],
   "source": [
    "env = gym.make(\"RubiksCube-v0\", cube=RubiksCube(), n_shuffle=3)\n",
    "env = gym.wrappers.TimeLimit(env, max_episode_steps=10)\n",
    "\n",
    "vec_env = make_vec_env(lambda: make_rubik_env(3, 10), n_envs=4)\n",
    "model = DQN.load(\"RubiksCubet_2\", vec_env, tensorboard_log=\"./RubiksLog_t\")\n",
    "\n",
    "model.learn(total_timesteps=int(1e6), progress_bar=False, tb_log_name=\"./RubiksLog_3\", log_interval=1)\n",
    "# Save the agent\n",
    "model.save(\"RubiksCubet_3\")\n",
    "del model"
   ]
  },
  {
   "cell_type": "code",
   "execution_count": null,
   "metadata": {},
   "outputs": [],
   "source": [
    "env = gym.make(\"RubiksCube-v0\", cube=RubiksCube(), n_shuffle=4)\n",
    "env = gym.wrappers.TimeLimit(env, max_episode_steps=10)\n",
    "\n",
    "vec_env = make_vec_env(lambda: make_rubik_env(4, 10), n_envs=32)\n",
    "model = TQC.load(\"RubiksCubet_3\", vec_env, tensorboard_log=\"./RubiksLog_t\")\n",
    "\n",
    "model.learn(total_timesteps=int(3e6), progress_bar=False, tb_log_name=\"./RubiksLog_4\", log_interval=1)\n",
    "# Save the agent\n",
    "model.save(\"RubiksCubet_4\")\n",
    "del model"
   ]
  },
  {
   "cell_type": "code",
   "execution_count": null,
   "metadata": {},
   "outputs": [],
   "source": [
    "vec_env = make_vec_env(lambda: make_rubik_env(5, 10), n_envs=32)\n",
    "model = PPO.load(\"RubiksCubes_5\", vec_env, tensorboard_log=\"./RubiksLog_s\")\n",
    "\n",
    "model.learn(total_timesteps=int(5e7), progress_bar=False, tb_log_name=\"./RubiksLog_5\", log_interval=1, reset_num_timesteps=False)\n",
    "# Save the agent\n",
    "model.save(\"RubiksCubes_5_1\")\n",
    "del model"
   ]
  },
  {
   "cell_type": "code",
   "execution_count": 37,
   "metadata": {},
   "outputs": [
    {
     "name": "stdout",
     "output_type": "stream",
     "text": [
      "Solved ratio: 7749/10000\n"
     ]
    }
   ],
   "source": [
    "env = gym.make(\"RubiksCube-v0\", cube=RubiksCube(), n_shuffle=5)\n",
    "model = PPO.load(\"RubiksCubes_5\", env=env)\n",
    "#model = stable_baselines3.PPO.load(\"RubiksCube_4_2\", env=env)\n",
    "\n",
    "vec_env = model.get_env()\n",
    "solved_ratio = 0\n",
    "repeats = 10000\n",
    "for evaluation in range(repeats):\n",
    "    obs = vec_env.reset()\n",
    "    #print(\"-------------------\")\n",
    "    #vec_env.env_method(method_name='print_state', indices=0)\n",
    "    #print(vec_env.get_attr(\"state\"))\n",
    "    #vec_env.env_method(method_name='print_step')\n",
    "    for i in range(10):\n",
    "        #vec_env.env_method(method_name='pprint_state', indices=0)\n",
    "        action, _states = model.predict(obs, deterministic=True)\n",
    "        #print(action)\n",
    "        obs, rewards, dones, info = vec_env.step(action)\n",
    "        if rewards[0] == 100:\n",
    "            solved_ratio += 1\n",
    "            #print(rewards)\n",
    "            break\n",
    "print(f\"Solved ratio: {solved_ratio}/{repeats}\")"
   ]
  }
 ],
 "metadata": {
  "kernelspec": {
   "display_name": "aini",
   "language": "python",
   "name": "python3"
  },
  "language_info": {
   "codemirror_mode": {
    "name": "ipython",
    "version": 3
   },
   "file_extension": ".py",
   "mimetype": "text/x-python",
   "name": "python",
   "nbconvert_exporter": "python",
   "pygments_lexer": "ipython3",
   "version": "3.10.6"
  }
 },
 "nbformat": 4,
 "nbformat_minor": 2
}
